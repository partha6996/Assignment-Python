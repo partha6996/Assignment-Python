{
 "cells": [
  {
   "cell_type": "markdown",
   "id": "ce19027a-b29e-43b3-8eb2-c8dce677703c",
   "metadata": {},
   "source": [
    "ASSIGNMENT PYTHON\n"
   ]
  },
  {
   "cell_type": "raw",
   "id": "f76b0495-b976-42d2-9ad6-2c728e6d40a4",
   "metadata": {},
   "source": [
    "#1.Explain the key features of python that make it popular choice for programming.\n",
    "\n",
    "Ans-Python is a popular language for programming due to the following reasons mentioned below\n",
    "-Ease of learning\n",
    "-Versatility (web development/Machine learning)\n",
    "-A lot of Libraries\n",
    "-Interpreted language\n",
    "-Data Analysis\n",
    "-Free and open source\n",
    "-Widely used in industries\n",
    "-Widely used in data industries\n",
    "-Front end development\n",
    "-Back end developmeny\n"
   ]
  },
  {
   "cell_type": "raw",
   "id": "9b5417c9-da3a-40df-8d37-7f3d0db966dd",
   "metadata": {},
   "source": [
    "#2.Expalin the role of predefined keywords in Python and provide examp;es of how they are used in a program.\n",
    "\n",
    "Ans- Keywords are predefined words that hold a special meaning and having specific purpose in python.\n",
    "\n",
    "examples - if , and , print etc."
   ]
  },
  {
   "cell_type": "code",
   "execution_count": null,
   "id": "10fa2906-447b-4bff-8d9b-ddb84b615ee1",
   "metadata": {},
   "outputs": [],
   "source": [
    "Weather = \"Summer\"\n",
    "if Weather == \"Rainy\":\n",
    "    print(\"The weather is rainy outside\")\n",
    "else:\n",
    "    print(\"The weather is  not rainy\")"
   ]
  },
  {
   "cell_type": "raw",
   "id": "1215d232-1d02-42bd-9863-74643db90999",
   "metadata": {},
   "source": [
    "#3.Compare and contrast mutable and immutable objects in Python with examples\n",
    "Ans- Immutable objects cannot be changed after they are created. Any attempt to modify an immutable object results in the creation of a new object.\n",
    "Ex. of mutable objects- Lists, Dictionaries, Sets\n",
    "Immutable objects cannot be changed after they are created. Any attempt to modify an immutable object results in the creation of a new object.\n",
    "Ex. of Immutable objects- Strings, Tuples, Integers\n",
    "\n",
    "\n"
   ]
  },
  {
   "cell_type": "raw",
   "id": "577dfcb3-945a-4b37-981b-eeeb1bbcbb4b",
   "metadata": {},
   "source": [
    "#4.Discuss the different types of operators in Python and provide examples of how they are used.\n",
    "Ans- Operators allow you to perform different operations on variables and values.\n",
    "\n",
    "There are different types of operators given below-\n",
    "*Arithmatic operator\n",
    "*Modulus operator\n",
    "*Floor operator\n",
    "*Comparison operator\n",
    "*Logical operator\n",
    "*Not operator\n",
    "*Assignment operator\n",
    "*Membership operator\n",
    "*Identity operator \n",
    "*Bit wise operator\n",
    "\n",
    "\n"
   ]
  },
  {
   "cell_type": "code",
   "execution_count": null,
   "id": "3a93f432-3a5f-4954-a30b-aa51981c5fb1",
   "metadata": {},
   "outputs": [],
   "source": [
    "#Example-1\n",
    "x = 5\n",
    "y = 3\n",
    "print(x * y)  # Output: 15\n",
    "\n"
   ]
  },
  {
   "cell_type": "code",
   "execution_count": null,
   "id": "8e50f6b6-afd3-4df9-a6cb-a07d15b844a2",
   "metadata": {},
   "outputs": [],
   "source": [
    "#Example-2\n",
    "x = 5\n",
    "y = 3\n",
    "print(x > y)  # Output: True"
   ]
  },
  {
   "cell_type": "raw",
   "id": "c82c0f47-d6ed-4588-9d8e-2e9ae7f5936b",
   "metadata": {},
   "source": [
    "#5.Explain the concept of type casting in Python with examples.\n",
    "Ans- Type Casting is the process of changing the data type of the value / Object. \n",
    "\n",
    "#Conversion of integer to string-\n",
    "\n",
    "\n",
    "    "
   ]
  },
  {
   "cell_type": "code",
   "execution_count": null,
   "id": "4d947337-3d64-4e16-9d04-b21de0c216fc",
   "metadata": {},
   "outputs": [],
   "source": [
    "a = 5\n",
    "type(a)"
   ]
  },
  {
   "cell_type": "code",
   "execution_count": null,
   "id": "aa5d6b48-f5ef-446f-babd-0aad88bc1298",
   "metadata": {},
   "outputs": [],
   "source": [
    "str(a)"
   ]
  },
  {
   "cell_type": "code",
   "execution_count": null,
   "id": "7f5d331a-d5fd-413f-9d44-c40eaf439ac1",
   "metadata": {},
   "outputs": [],
   "source": [
    "a = \"5\""
   ]
  },
  {
   "cell_type": "code",
   "execution_count": null,
   "id": "348156ef-3815-4873-833e-09c2e6eae03b",
   "metadata": {},
   "outputs": [],
   "source": [
    "type(a)"
   ]
  },
  {
   "cell_type": "raw",
   "id": "41ecb02e-eba7-4df0-af64-511123667063",
   "metadata": {},
   "source": [
    "#6. How do conditional statements work in Python? Illustrate with examples.\n",
    "Ans- Conditional satements >> helps you to code desicions based on some pre conditon.\n",
    "The pattern of application of condition is : \n",
    "\n",
    "#if statements\n",
    "#syntax\n",
    "#if condition true\n",
    "#block code will be exempted\n"
   ]
  },
  {
   "cell_type": "code",
   "execution_count": null,
   "id": "e6166ae5-2b08-4fb4-8247-4afe7242c06a",
   "metadata": {},
   "outputs": [],
   "source": [
    "#example\n",
    "a = 10\n",
    "b = 11\n",
    "if a > 5:\n",
    "    if b > 5:\n",
    "        print(\"The number is greater than 5\")\n",
    "    else:\n",
    "        print(\"Te number x is only greater than 5\")\n",
    "else:\n",
    "    print(\"Neither x nor y is greater than 5\")\n",
    "    "
   ]
  },
  {
   "cell_type": "raw",
   "id": "19627864-d30d-45aa-8018-9869caffab66",
   "metadata": {},
   "source": [
    "#7.Describe the different types of loops in Python and their use cases with examples.\n",
    "Ans-Loops are of two types\n",
    "1.For loop-The for loop in Python is used for iterating over a sequence.\n",
    "2.While loop-The while loop in Python is used to execute a block of code as long as a condition is true. This loop is useful when the number of iterations is not known beforehand and depends on some condition.\n"
   ]
  },
  {
   "cell_type": "code",
   "execution_count": null,
   "id": "26a6e663-2dc9-4db5-b1c8-a29cf5f6cb50",
   "metadata": {},
   "outputs": [],
   "source": [
    "#Example of while loop\n",
    "n = 9\n",
    "i = 1\n",
    "while i < n:\n",
    "    print(i)\n",
    "    i = i+1"
   ]
  },
  {
   "cell_type": "code",
   "execution_count": null,
   "id": "1191b136-d41c-4de8-93c8-1e49599d39a9",
   "metadata": {},
   "outputs": [],
   "source": [
    "#Example  of for loop\n",
    "a = \"pwskills\"\n",
    "for i in a:\n",
    "    print(i)"
   ]
  }
 ],
 "metadata": {
  "kernelspec": {
   "display_name": "Python 3 (ipykernel)",
   "language": "python",
   "name": "python3"
  },
  "language_info": {
   "codemirror_mode": {
    "name": "ipython",
    "version": 3
   },
   "file_extension": ".py",
   "mimetype": "text/x-python",
   "name": "python",
   "nbconvert_exporter": "python",
   "pygments_lexer": "ipython3",
   "version": "3.10.8"
  }
 },
 "nbformat": 4,
 "nbformat_minor": 5
}
